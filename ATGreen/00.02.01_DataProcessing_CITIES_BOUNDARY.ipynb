{
 "cells": [
  {
   "cell_type": "code",
   "execution_count": 1,
   "id": "d620fa82",
   "metadata": {
    "tags": []
   },
   "outputs": [],
   "source": [
    "from atg import *"
   ]
  },
  {
   "cell_type": "code",
   "execution_count": null,
   "id": "7e61aaa4-9824-41b0-b7ee-c945b6425176",
   "metadata": {
    "tags": [
     "PARAMETERS"
    ]
   },
   "outputs": [],
   "source": [
    "PATH=\"\""
   ]
  },
  {
   "cell_type": "markdown",
   "id": "9f048ad7-6034-45fe-81c9-f1cca96d684b",
   "metadata": {},
   "source": [
    "### Load cities boundary"
   ]
  },
  {
   "cell_type": "code",
   "execution_count": 33,
   "id": "e5ad19fb-7d69-414d-92eb-2650e2e925ea",
   "metadata": {},
   "outputs": [],
   "source": [
    "os.chdir(PATH)\n",
    "db_params=pickle.load(open(f\"{PATH}/dicts/db_params.pickle\", 'rb'))\n",
    "\n",
    "gdf=gpd.read_file('boundaries/cities.shp')\n",
    "gdf['geom']=gdf['geometry']\n",
    "gdf=gdf.set_geometry('geom')\n",
    "gdf=gdf[['OBJECTID', 'geom']]\n",
    "gdf['city']=gdf['OBJECTID'].apply(lambda x: 'ID_'+x)\n",
    "gdf=gdf.to_crs('4326')\n",
    "\n",
    "engine=create_engine(f\"postgresql+psycopg2://{db_params['db_user']}:{db_params['db_password']}@{db_params['db_host']}:{db_params['db_port']}/{db_params['db_name']}\")\n",
    "gdf[['city', 'geom']].to_postgis('cities_boundary', con=engine, dtype={'geom': Geometry('MultiPolygon', srid=4326)} , if_exists='replace')"
   ]
  }
 ],
 "metadata": {
  "kernelspec": {
   "display_name": "Python 3 (ipykernel)",
   "language": "python",
   "name": "python3"
  },
  "language_info": {
   "codemirror_mode": {
    "name": "ipython",
    "version": 3
   },
   "file_extension": ".py",
   "mimetype": "text/x-python",
   "name": "python",
   "nbconvert_exporter": "python",
   "pygments_lexer": "ipython3",
   "version": "3.9.7"
  }
 },
 "nbformat": 4,
 "nbformat_minor": 5
}
