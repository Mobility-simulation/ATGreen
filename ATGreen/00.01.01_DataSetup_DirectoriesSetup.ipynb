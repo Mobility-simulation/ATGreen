{
 "cells": [
  {
   "cell_type": "code",
   "execution_count": null,
   "id": "0aeae9d3-b079-4e04-a507-af3b8e4010f4",
   "metadata": {},
   "outputs": [],
   "source": [
    "#Set up working directory\n",
    "import os"
   ]
  },
  {
   "cell_type": "code",
   "execution_count": null,
   "id": "2c013243-5b1e-4fff-af1c-66a23e9f5462",
   "metadata": {
    "tags": [
     "PARAMETERS"
    ]
   },
   "outputs": [],
   "source": [
    "PATH=\"\""
   ]
  },
  {
   "cell_type": "code",
   "execution_count": null,
   "id": "d9ce6d4b-f4a4-47a2-b582-c5aab673aa84",
   "metadata": {},
   "outputs": [],
   "source": [
    "os.chdir(PATH)\n",
    "for dir in ['dicts','boundary', 'distances', 'esa', 'grid', 'osm', 'tmp']:\n",
    "    os.makedirs(dir)\n",
    "    \n",
    "for dir in ['cities']:\n",
    "    os.makedirs(f\"{PATH}/osm/{dir}\")"
   ]
  }
 ],
 "metadata": {
  "kernelspec": {
   "display_name": "Python 3 (ipykernel)",
   "language": "python",
   "name": "python3"
  },
  "language_info": {
   "codemirror_mode": {
    "name": "ipython",
    "version": 3
   },
   "file_extension": ".py",
   "mimetype": "text/x-python",
   "name": "python",
   "nbconvert_exporter": "python",
   "pygments_lexer": "ipython3",
   "version": "3.9.7"
  }
 },
 "nbformat": 4,
 "nbformat_minor": 5
}
