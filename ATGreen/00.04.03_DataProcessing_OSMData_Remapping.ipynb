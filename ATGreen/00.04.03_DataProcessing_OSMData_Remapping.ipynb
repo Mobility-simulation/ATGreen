{
 "cells": [
  {
   "cell_type": "code",
   "execution_count": 1,
   "id": "31140b03-8568-4f4b-bec6-7e2569514c89",
   "metadata": {},
   "outputs": [],
   "source": [
    "from atg import *"
   ]
  },
  {
   "cell_type": "code",
   "execution_count": 2,
   "id": "af2a845b-2746-4806-8fb9-cbd5b8ef1130",
   "metadata": {
    "tags": [
     "PARAMETERS"
    ]
   },
   "outputs": [],
   "source": [
    "PATH=\"\""
   ]
  },
  {
   "cell_type": "code",
   "execution_count": null,
   "id": "4e44fb97-95ce-4188-b3a2-446940ac972d",
   "metadata": {},
   "outputs": [],
   "source": [
    "os.chdir(PATH)\n",
    "db_params=pickle.load(open(f\"{PATH}/dicts/db_params.pickle\", 'rb'))\n",
    "cities_list=query4table('cities_boundary','public', db_params)['city']\n",
    "\n",
    "\n",
    "for ind,city in enumerate(cities_list):\n",
    "    print(ind)\n",
    "    print(city)\n",
    "\n",
    "    dfs_list=[]\n",
    "    for key,value in osm_greencombinations.items():\n",
    "        df=query4osm2grid(city, 'category', value, db_params, 0, 0)\n",
    "        # Round values\n",
    "        for VAR in ['green_size', 'size_intersection']:\n",
    "            df[VAR]=np.round(df[VAR], 2)\n",
    "        #Rename variables\n",
    "        df.rename(columns={\"green_size\":f\"{key}_gs\", \"size_intersection\":f\"{key}_si\"}, inplace=True)\n",
    "        df['xy_count']=df.groupby(['x', 'y']).cumcount()\n",
    "        #Generate fake additional variable for merge - it is used to ensure that elements are not duplicated during the merge\n",
    "        dfs_list.append(df)\n",
    "\n",
    "    df=dfs_list[0].copy()\n",
    "    for i in dfs_list[1:]:\n",
    "        df=pd.merge(df, i, on=['x','y', 'xy_count'], how='outer')\n",
    "    df=df.fillna(0)\n",
    "    df.drop(columns=['xy_count'], inplace=True)\n",
    "    df['city']=city\n",
    "    df2psql(df,\"osm.osm2grid\", db_params, if_exists='append', index=False, index_label=['x','y', 'city'])"
   ]
  }
 ],
 "metadata": {
  "kernelspec": {
   "display_name": "Python 3 (ipykernel)",
   "language": "python",
   "name": "python3"
  },
  "language_info": {
   "codemirror_mode": {
    "name": "ipython",
    "version": 3
   },
   "file_extension": ".py",
   "mimetype": "text/x-python",
   "name": "python",
   "nbconvert_exporter": "python",
   "pygments_lexer": "ipython3",
   "version": "3.9.7"
  }
 },
 "nbformat": 4,
 "nbformat_minor": 5
}
