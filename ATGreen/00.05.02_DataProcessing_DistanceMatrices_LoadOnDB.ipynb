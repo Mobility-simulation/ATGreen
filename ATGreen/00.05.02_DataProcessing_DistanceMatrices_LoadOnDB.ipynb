{
 "cells": [
  {
   "cell_type": "code",
   "execution_count": 1,
   "metadata": {},
   "outputs": [],
   "source": [
    "from atg import *"
   ]
  },
  {
   "cell_type": "code",
   "execution_count": null,
   "metadata": {
    "tags": [
     "parameters"
    ]
   },
   "outputs": [],
   "source": [
    "PATH=\"\""
   ]
  },
  {
   "cell_type": "code",
   "execution_count": 10,
   "metadata": {
    "tags": []
   },
   "outputs": [],
   "source": [
    "os.chdir(PATH)\n",
    "db_params=pickle.load(open(f\"{PATH}/dicts/db_params.pickle\", 'rb'))\n",
    "cities_list=query4table('cities_boundary','public', db_params)['city']"
   ]
  },
  {
   "cell_type": "code",
   "execution_count": 5,
   "metadata": {},
   "outputs": [],
   "source": [
    "for ind, city in enumerate(cities_list):\n",
    "    print(ind)\n",
    "    print(city)\n",
    "    df=pd.read_csv(f\"{PATH}/distances/{city}.dist.bz2\")\n",
    "    df['city']=city\n",
    "    ### Generate geodesic distances\n",
    "    df['geodesic_meters']=df.apply(lambda x: geodesic((x['lat_source'], x['long_source']),(x['lat_dest'], x['long_dest'])).km*1000, axis=1)\n",
    "    #Transform in minutes assuming 5km/h converting factor\n",
    "    df['geodesic_minutes']=df['geodesic_meters']*(60)/5000\n",
    "    #keep only relevant columns\n",
    "    df=df[['city', 'x_source', 'y_source', 'x_dest', 'y_dest', 'walk_minutes', 'geodesic_meters','geodesic_minutes']]\n",
    "    #Round to integer\n",
    "    for VAR in ['walk_minutes', 'geodesic_meters','geodesic_minutes']:\n",
    "        df[VAR]=np.round(df[VAR], 1)\n",
    "    df2psql(df, f\"{city}\", db_params, if_exists='replace', index=False, index_label=[ 'city', 'x_source','y_source', 'x_dest','y_dest'], schema='distances')"
   ]
  }
 ],
 "metadata": {
  "kernelspec": {
   "display_name": "Python 3 (ipykernel)",
   "language": "python",
   "name": "python3"
  },
  "language_info": {
   "codemirror_mode": {
    "name": "ipython",
    "version": 3
   },
   "file_extension": ".py",
   "mimetype": "text/x-python",
   "name": "python",
   "nbconvert_exporter": "python",
   "pygments_lexer": "ipython3",
   "version": "3.9.7"
  }
 },
 "nbformat": 4,
 "nbformat_minor": 4
}
