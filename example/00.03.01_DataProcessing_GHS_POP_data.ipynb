{
 "cells": [
  {
   "cell_type": "code",
   "execution_count": 17,
   "metadata": {},
   "outputs": [],
   "source": [
    "#Import libraries, load watermark and set directories\n",
    "from atgreen import *\n",
    "from tqdm import tqdm"
   ]
  },
  {
   "cell_type": "code",
   "execution_count": 3,
   "metadata": {
    "tags": [
     "PARAMETERS"
    ]
   },
   "outputs": [],
   "source": [
    "PATH=\"\"\n",
    "GIRD_FILE=\"GHS_POP_E2030_GLOBE_R2023A_4326_3ss_V1_0.tif\"\n",
    "GRID_CRS=\"4326\"\n",
    "BUFFER_SIZE=3000"
   ]
  },
  {
   "cell_type": "markdown",
   "metadata": {},
   "source": [
    "### Save Raster for DB"
   ]
  },
  {
   "cell_type": "code",
   "execution_count": null,
   "metadata": {},
   "outputs": [],
   "source": [
    "os.chdir(PATH)\n",
    "db_params=pickle.load(open(f\"{PATH}/dicts/db_params.pickle\", 'rb'))\n",
    "cities_list=query4table('cities_boundary','public', db_params)['city']\n",
    "\n",
    "#Geometry for clip\n",
    "for ind, city in tqdm(enumerate(cities_list)):\n",
    "    geometry_to_clip=query4cityboundary(city, db_params, BUFFER_SIZE).geometry\n",
    "\n",
    "    #Get Clipped raster\n",
    "    xds=getClippedRaster(\"population\", f\"{PATH}/grid/{GRID_FILE}\", geometry_to_clip, True, True, \"./\", city)\n",
    "\n",
    "    #Generate to SQL table\n",
    "    if ind==0:\n",
    "        mode=\"d\"\n",
    "    else:\n",
    "        mode=\"a\"\n",
    "\n",
    "    rast2sql(\".\", city ,\"tmp\", \"ghs_pop\", mode, (xds.shape[2],xds.shape[1]), 'tiff', GRID_CRS)\n",
    "    sqlRasterTable2db('ghs_pop','tmp',db_params)\n",
    "\n",
    "    #Remove local file\n",
    "    os.remove(f\"{city}.tiff\")"
   ]
  }
 ],
 "metadata": {
  "kernelspec": {
   "display_name": "Python 3",
   "language": "python",
   "name": "python3"
  },
  "language_info": {
   "codemirror_mode": {
    "name": "ipython",
    "version": 3
   },
   "file_extension": ".py",
   "mimetype": "text/x-python",
   "name": "python",
   "nbconvert_exporter": "python",
   "pygments_lexer": "ipython3",
   "version": "3.8.3"
  }
 },
 "nbformat": 4,
 "nbformat_minor": 5
}
