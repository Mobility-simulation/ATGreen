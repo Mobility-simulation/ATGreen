{
 "cells": [
  {
   "cell_type": "code",
   "execution_count": 20,
   "metadata": {},
   "outputs": [],
   "source": [
    "from atgreen import *\n",
    "from tqdm import tqdm\n",
    "import re"
   ]
  },
  {
   "cell_type": "code",
   "execution_count": null,
   "metadata": {
    "tags": [
     "PARAMETERS"
    ]
   },
   "outputs": [],
   "source": [
    "PATH=\"\""
   ]
  },
  {
   "cell_type": "code",
   "execution_count": 2,
   "metadata": {},
   "outputs": [],
   "source": [
    "os.chdir(PATH)\n",
    "db_params=pickle.load(open(f\"{PATH}/dicts/db_params.pickle', 'rb'))\n",
    "cities_list=query4table('cities_boundary','public', db_params)['city']"
   ]
  },
  {
   "cell_type": "code",
   "execution_count": null,
   "metadata": {},
   "outputs": [],
   "source": [
    "# Generate indexes on table with distances\n",
    "engine=create_engine(f\"postgresql+psycopg2://{db_params['db_user']}:{db_params['db_password']}@{db_params['db_host']}:5432/{db_params['db_name']}\")       \n",
    "\n",
    "sql=\"\"\"SELECT * FROM information_schema.tables\n",
    "       WHERE table_schema = 'distances' \"\"\"\n",
    "tables_list=list(pd.read_sql(sql, engine)[\"table_name\"])\n",
    "\n",
    "\n",
    "for k,city in tqdm(eunmerate(cities_list)):\n",
    "    if city in tables_list:\n",
    "        generate_indexes4table(f\"idx_{k[k.rfind('_')+1:]}_x\", 'distances', city, \"x_source\", db_params)\n",
    "        generate_indexes4table(f\"idx_{k[k.rfind('_')+1:]}_y\", 'distances', city, \"y_source\",db_params)\n",
    "        generate_indexes4table(f\"idx_{k[k.rfind('_')+1:]}_wd\", 'distances', city, \"walk_minutes\",db_params)"
   ]
  },
  {
   "cell_type": "code",
   "execution_count": null,
   "metadata": {},
   "outputs": [],
   "source": [
    "# Generate indexes on table for remapped green \n",
    "generate_indexes4table(\"cell_index_x\", \"osm\", \"osm2grid\", \"x_source\", db_params)\n",
    "generate_indexes4table(\"cell_index_y\", \"osm\", \"osm2grid\", \"y_source\",db_params)\n",
    "for ind in range(7):\n",
    "    generate_indexes4table(f\"_gs_index_{ind}\", \"osm\", \"osm2grid\", f\"{ind}_gs\",db_params)\n",
    "generate_indexes4table(\"cell_index_x\", \"esa\", \"esa2grid\", \"x_source\", db_params)\n",
    "generate_indexes4table(\"cell_index_y\", \"esa\", \"esa2grid\", \"y_source\",db_params)\n",
    "for ind in range(1):\n",
    "    generate_indexes4table(f\"_gs_index_{ind}\", \"esa\", \"esa2grid\", f\"{ind}_gs\",db_params)"
   ]
  }
 ],
 "metadata": {
  "kernelspec": {
   "display_name": "Python 3",
   "language": "python",
   "name": "python3"
  },
  "language_info": {
   "codemirror_mode": {
    "name": "ipython",
    "version": 3
   },
   "file_extension": ".py",
   "mimetype": "text/x-python",
   "name": "python",
   "nbconvert_exporter": "python",
   "pygments_lexer": "ipython3",
   "version": "3.8.3"
  }
 },
 "nbformat": 4,
 "nbformat_minor": 4
}
