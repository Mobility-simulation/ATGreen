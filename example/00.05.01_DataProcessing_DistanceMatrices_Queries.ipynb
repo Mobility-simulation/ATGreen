{
 "cells": [
  {
   "cell_type": "code",
   "execution_count": 1,
   "metadata": {},
   "outputs": [],
   "source": [
    "from atgreen import *\n",
    "from tqdm import tqdm"
   ]
  },
  {
   "cell_type": "code",
   "execution_count": null,
   "metadata": {},
   "outputs": [],
   "source": [
    "PATH=\"\"\n",
    "CELL_BUFFER=3000\n",
    "ROUTING_PROFILE=\"foot\"\n",
    "OSRM_WORKING_FOLDER=\"/home/aliceb/gisops_osrm_nodejs\"\n",
    "OSM_INPUT_FOLDER_CITIES=f\"{PATH}/osm/cities/\""
   ]
  },
  {
   "cell_type": "code",
   "execution_count": 3,
   "metadata": {
    "tags": [
     "parameters"
    ]
   },
   "outputs": [],
   "source": [
    "os.chdir(PATH)\n",
    "db_params=pickle.load(open(f\"{PATH}/dicts/db_params.pickle\", 'rb'))\n",
    "cities_list=query4table('cities_boundary','public', db_params)['city']"
   ]
  },
  {
   "cell_type": "markdown",
   "metadata": {},
   "source": [
    "### Identify set of pairs for which we have to compute all distances"
   ]
  },
  {
   "cell_type": "code",
   "execution_count": null,
   "metadata": {},
   "outputs": [],
   "source": [
    "#Load grid\n",
    "for ind, city in enumerate(cities_list):\n",
    "    print(ind)\n",
    "    print(city)\n",
    "    if os.path.exists(f\"{PATH}/osm/cities/{city}.osm.pbf\"):\n",
    "        print('OSM file exists.')\n",
    "        grid=query4grid(city, db_params)\n",
    "        grid['lat']=grid.geom.centroid.y\n",
    "        grid['long']=grid.geom.centroid.x\n",
    "\n",
    "        #As origin cells only keep cells with positive population\n",
    "        grid_source = grid.query(\"population > 0\")\n",
    "        #Reproject it to ensure identification of buffered area within which to compute distances\n",
    "        grid_source=project_gdf(grid_source)\n",
    "        grid_dest = grid.copy()\n",
    "\n",
    "        #Identify for each cell, buffered area of 3 km [geodesic], within which to compute distances\n",
    "        grid_source['geom'] = grid_source.geometry.centroid.buffer(CELL_BUFFER)\n",
    "        #Reproject to standard CRS \n",
    "        grid_source = grid_source.to_crs('epsg:4326')\n",
    "        grid_dest = grid_dest.to_crs('epsg:4326')\n",
    "        grid = grid.to_crs('epsg:4326')\n",
    "\n",
    "        for var in ['lat','long', 'x', 'y']:\n",
    "            grid_source.rename(columns={var:f\"{var}_source\"}, inplace=True)\n",
    "            grid_dest.rename(columns={var:f\"{var}_dest\"}, inplace=True)\n",
    "        gdf = grid_source[['lat_source','long_source','geom', 'x_source', 'y_source']].sjoin(grid_dest[['lat_dest','long_dest','geom', 'x_dest', 'y_dest']])\n",
    "\n",
    "\n",
    "        # First identify non-accessible cells according to heuristic\n",
    "        #Apply osmium bindings to get streets from the foot profile of OSRM \n",
    "        filename=f\"{PATH}/osm/cities/{city}.osm.pbf\"\n",
    "        features={'highway':['primary','secondary','tertiary','unclassified',\n",
    "                            'residential','road','living_street','service','track','path','steps','pedestrian','footway']}\n",
    "\n",
    "        streets=waysExtraction(filename, features, True, False)\n",
    "\n",
    "        #Both datasets are in crs EPSG:4326\n",
    "        accessible=gpd.sjoin(grid, streets, how='left', predicate='intersects')\n",
    "        accessible_cells=accessible[accessible['osm_key'].isnull()==False][['x', 'y']].drop_duplicates()\n",
    "        accessible_cells=accessible_cells[['x','y']]\n",
    "        accessible_cells['walk_access']=1\n",
    "\n",
    "        #Merge info in original dataset\n",
    "        gdf=pd.merge(gdf, accessible_cells, left_on=['x_source','y_source'], right_on=['x','y'], how='left')\n",
    "        gdf=gdf.rename(columns={'walk_access':'walk_access_source'})\n",
    "        gdf.loc[gdf['walk_access_source'].isnull()==True, 'walk_access_source']=0\n",
    "        gdf=pd.merge(gdf, accessible_cells, left_on=['x_dest','y_dest'], right_on=['x','y'], how='left')\n",
    "        gdf=gdf.rename(columns={'walk_access':'walk_access_dest'})\n",
    "        gdf.loc[gdf['walk_access_dest'].isnull()==True, 'walk_access_dest']=0\n",
    "        gdf['walk_access']=gdf[['walk_access_source', 'walk_access_dest']].min(axis=1)\n",
    "        gdf=gdf[['lat_source', 'long_source','x_source', 'y_source','walk_access_source','lat_dest', 'long_dest', 'x_dest', 'y_dest','walk_access_dest','walk_access']]\n",
    "\n",
    "        ### Compute actual walking distances using osrm\n",
    "        profile=ROUTING_PROFILE\n",
    "        working_folder=OSRM_WORKING_FOLDER\n",
    "        osm_inputfolder=OSM_INPUT_FOLDER_CITIES\n",
    "\n",
    "        if len(gdf[gdf['walk_access']==1])>0:\n",
    "            start=datetime.datetime.now()\n",
    "            print(start)\n",
    "            res=osrm_files_creation(city, osm_inputfolder, working_folder, profile)\n",
    "            if res.returncode!=0:\n",
    "                with open(f\"{working_folder}/OSRM_diagnostic.csv\", \"a\") as file:\n",
    "                    file.write(city+','+'error: file creation'+'\\n') \n",
    "            else:\n",
    "                print(datetime.datetime.now())\n",
    "\n",
    "                all_done=0\n",
    "                step=0\n",
    "                gdf['walk_durations']=np.nan\n",
    "                while all_done==0:\n",
    "                    print(str(city)+\" \"+str(step)+\", missing pairs:\"+str(len(gdf)-len(gdf[gdf['walk_durations'].isnull()==False])))\n",
    "                    subset=coords_vector_identification(gdf, 2000, f\"{city}_coords.csv\", working_folder)    #vector size limit of 2000 chosen to optimize computational time\n",
    "                    res=one_run_osrm(city, f\"{city}_coords.csv\", f\"{city}_durs.csv\", working_folder)\n",
    "                    if res.returncode!=0:\n",
    "                            with open(f\"{working_folder}/OSRM_diagnostic_isglobal_unito_greenaccessibility.csv\", \"a\") as file:\n",
    "                                file.write(city+','+'error: OSRM run'+'\\n') \n",
    "                    else:\n",
    "                        gdf=merge_one_run(gdf, subset,f\"{city}_durs.csv\", working_folder)\n",
    "                        step=step+1\n",
    "                        if len(gdf[(gdf['walk_durations'].isnull()==True) & (gdf['walk_access']==1)])==0:\n",
    "                            all_done=1\n",
    "                        os.chdir(path)\n",
    "                #Transform in minutes\n",
    "                #Uncomputed distances are stored as string - coerce\n",
    "                gdf['walk_durations']=pd.to_numeric(gdf['walk_durations'], errors='coerce')\n",
    "                gdf['walk_minutes']=gdf['walk_durations']/60\n",
    "                osrm_files_deletion(city, f\"{city}_coords.csv\", f\"{city}_durs.csv\" , working_folder)\n",
    "                gdf[['x_source', 'y_source', 'lat_source', 'long_source','walk_access_source', 'x_dest', 'y_dest','lat_dest', 'long_dest', 'walk_access_dest', 'walk_access', 'walk_minutes']].to_csv(f\"{path}distances/{city}.dist.bz2\", header=True, index=False, compression='bz2')\n",
    "\n",
    "            final=datetime.datetime.now()\n",
    "            print('Report time:')\n",
    "            print(city)\n",
    "            print(start)\n",
    "            print(final)\n",
    "        else:\n",
    "            with open(f\"{working_folder}/OSRM_diagnostic.csv\", \"a\") as file:\n",
    "                    file.write(city+','+'error: no cell reachable'+'\\n') \n",
    "    else:\n",
    "        with open(f\"{working_folder}/OSRM_diagnostic.csv\", \"a\") as file:\n",
    "            file.write(city+','+'OSM file not found.'+'\\n') "
   ]
  },
  {
   "cell_type": "code",
   "execution_count": null,
   "metadata": {},
   "outputs": [],
   "source": []
  }
 ],
 "metadata": {
  "kernelspec": {
   "display_name": "Python 3",
   "language": "python",
   "name": "python3"
  },
  "language_info": {
   "codemirror_mode": {
    "name": "ipython",
    "version": 3
   },
   "file_extension": ".py",
   "mimetype": "text/x-python",
   "name": "python",
   "nbconvert_exporter": "python",
   "pygments_lexer": "ipython3",
   "version": "3.8.3"
  }
 },
 "nbformat": 4,
 "nbformat_minor": 4
}
