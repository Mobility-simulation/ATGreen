{
 "cells": [
  {
   "cell_type": "code",
   "execution_count": 2,
   "metadata": {},
   "outputs": [],
   "source": [
    "from atgreen import *"
   ]
  },
  {
   "cell_type": "code",
   "execution_count": 5,
   "metadata": {
    "tags": [
     "PARAMETERS"
    ]
   },
   "outputs": [],
   "source": [
    "PATH=\"\""
   ]
  },
  {
   "cell_type": "markdown",
   "metadata": {},
   "source": [
    "### Create database and setup schemas"
   ]
  },
  {
   "cell_type": "code",
   "execution_count": null,
   "metadata": {},
   "outputs": [],
   "source": [
    "db_params=pickle.load(open(f\"{PATH}/dicts/db_params.pickle\", 'rb'))"
   ]
  },
  {
   "cell_type": "code",
   "execution_count": 3,
   "metadata": {},
   "outputs": [],
   "source": [
    "#Set engine\n",
    "from psycopg2 import sql\n",
    "from psycopg2.extensions import ISOLATION_LEVEL_AUTOCOMMIT\n",
    "\n",
    "### Create database\n",
    "conn = psycopg2.connect(\n",
    "        dbname='postgres', user=db_params['db_user'], password=db_params['db_password'], host=db_params['db_host'])\n",
    "\n",
    "conn.set_isolation_level(ISOLATION_LEVEL_AUTOCOMMIT) # <-- ADD THIS LINE\n",
    "with conn.cursor() as cur: \n",
    "    cur.execute(sql.SQL(\"CREATE DATABASE {}\").format(\n",
    "        sql.Identifier(db_params['db_name'])))\n",
    "conn.close()\n",
    "\n",
    "### Create schemas\n",
    "conn = psycopg2.connect(\n",
    "        dbname=db_params['db_name'], user=db_params['db_user'], password=db_params['db_password'], host=db_params['db_host'])\n",
    "conn.autocommit=True\n",
    "with conn.cursor() as cur: \n",
    "    cur.execute(f\"\"\"CREATE SCHEMA distances\"\"\")\n",
    "    cur.execute(f\"\"\"CREATE SCHEMA osm\"\"\")\n",
    "    cur.execute(f\"\"\"CREATE SCHEMA esa\"\"\")\n",
    "    cur.execute(f\"\"\"CREATE EXTENSION postgis\"\"\")\n",
    "    cur.execute(f\"\"\"CREATE EXTENSION postgis_raster\"\"\")\n",
    "conn.close()"
   ]
  }
 ],
 "metadata": {
  "kernelspec": {
   "display_name": "Python 3",
   "language": "python",
   "name": "python3"
  },
  "language_info": {
   "codemirror_mode": {
    "name": "ipython",
    "version": 3
   },
   "file_extension": ".py",
   "mimetype": "text/x-python",
   "name": "python",
   "nbconvert_exporter": "python",
   "pygments_lexer": "ipython3",
   "version": "3.8.3"
  }
 },
 "nbformat": 4,
 "nbformat_minor": 5
}
