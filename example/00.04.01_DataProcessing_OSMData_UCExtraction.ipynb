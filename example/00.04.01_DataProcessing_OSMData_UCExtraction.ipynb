{
 "cells": [
  {
   "cell_type": "code",
   "execution_count": 9,
   "metadata": {
    "tags": []
   },
   "outputs": [],
   "source": [
    "from atgreen import *\n",
    "from tqdm import tqdm"
   ]
  },
  {
   "cell_type": "code",
   "execution_count": 10,
   "metadata": {
    "tags": [
     "PARAMETERS"
    ]
   },
   "outputs": [],
   "source": [
    "PATH=\"\"\n",
    "OSM_INPUT_FILE=\"/mnt/work/accessToGreen/data/raw_data/osm/planet/europe-latest.osm.pbf\""
   ]
  },
  {
   "cell_type": "markdown",
   "metadata": {},
   "source": [
    "### Generate relevant info from city-level extracts"
   ]
  },
  {
   "cell_type": "code",
   "execution_count": null,
   "metadata": {},
   "outputs": [
    {
     "name": "stderr",
     "output_type": "stream",
     "text": [
      "3it [02:24, 32.42s/it] "
     ]
    }
   ],
   "source": [
    "os.chdir(PATH)\n",
    "db_params=pickle.load(open(f\"{PATH}/dicts/db_params.pickle\", 'rb'))\n",
    "cities_list=query4table('cities_boundary','public', db_params)['city']\n",
    "\n",
    "\n",
    "for ind, city in tqdm(enumerate(cities_list)):\n",
    "    geometry_to_clip=query4cityboundary(city, db_params, 3000).geometry\n",
    "    geometry_to_clip.to_file(f\"osm/{city}.geojson\", driver='GeoJSON')\n",
    "\n",
    "    #Generate OSM extract for areas of interest using osmium\n",
    "    osm_file_name=OSM_INPUT_FILE\n",
    "    output_file_name=f\"{path}/osm/cities/{city}.osm.pbf\"\n",
    "    boundary=f\"{path}/osm/{city}.geojson\"\n",
    "\n",
    "    #Use smart strategy to ensure relations are complete\n",
    "    os.system(\"osmium extract -p '%s' --output='%s' --overwrite '%s' --strategy=smart\" %(boundary,output_file_name, osm_file_name))\n",
    "    os.remove(boundary)"
   ]
  }
 ],
 "metadata": {
  "kernelspec": {
   "display_name": "Python 3",
   "language": "python",
   "name": "python3"
  },
  "language_info": {
   "codemirror_mode": {
    "name": "ipython",
    "version": 3
   },
   "file_extension": ".py",
   "mimetype": "text/x-python",
   "name": "python",
   "nbconvert_exporter": "python",
   "pygments_lexer": "ipython3",
   "version": "3.8.3"
  }
 },
 "nbformat": 4,
 "nbformat_minor": 5
}
