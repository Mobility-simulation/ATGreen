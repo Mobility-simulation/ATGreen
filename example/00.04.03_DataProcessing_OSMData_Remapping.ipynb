{
 "cells": [
  {
   "cell_type": "code",
   "execution_count": 1,
   "metadata": {},
   "outputs": [],
   "source": [
    "from atgreen import *"
   ]
  },
  {
   "cell_type": "code",
   "execution_count": 2,
   "metadata": {
    "tags": [
     "PARAMETERS"
    ]
   },
   "outputs": [],
   "source": [
    "PATH=\"\""
   ]
  },
  {
   "cell_type": "code",
   "execution_count": null,
   "metadata": {},
   "outputs": [],
   "source": [
    "os.chdir(PATH)\n",
    "db_params=pickle.load(open(f\"{PATH}/dicts/db_params.pickle\", 'rb'))\n",
    "cities_list=query4table('cities_boundary','public', db_params)['city']\n",
    "\n",
    "\n",
    "for ind,city in enumerate(cities_list):\n",
    "    print(ind)\n",
    "    print(city)\n",
    "\n",
    "    dfs_list=[]\n",
    "    for key,value in osm_greencombinations.items():\n",
    "        df=query4osm2grid(city, 'category', value, db_params, 0, 0)\n",
    "        # Round values\n",
    "        for VAR in ['green_size', 'size_intersection']:\n",
    "            df[VAR]=np.round(df[VAR], 2)\n",
    "        #Rename variables\n",
    "        df.rename(columns={\"green_size\":f\"{key}_gs\", \"size_intersection\":f\"{key}_si\"}, inplace=True)\n",
    "        df['xy_count']=df.groupby(['x', 'y']).cumcount()\n",
    "        #Generate fake additional variable for merge - it is used to ensure that elements are not duplicated during the merge\n",
    "        dfs_list.append(df)\n",
    "\n",
    "    df=dfs_list[0].copy()\n",
    "    for i in dfs_list[1:]:\n",
    "        df=pd.merge(df, i, on=['x','y', 'xy_count'], how='outer')\n",
    "    df=df.fillna(0)\n",
    "    df.drop(columns=['xy_count'], inplace=True)\n",
    "    df['city']=city\n",
    "    df2psql(df,\"osm.osm2grid\", db_params, if_exists='append', index=False, index_label=['x','y', 'city'])"
   ]
  }
 ],
 "metadata": {
  "kernelspec": {
   "display_name": "Python 3",
   "language": "python",
   "name": "python3"
  },
  "language_info": {
   "codemirror_mode": {
    "name": "ipython",
    "version": 3
   },
   "file_extension": ".py",
   "mimetype": "text/x-python",
   "name": "python",
   "nbconvert_exporter": "python",
   "pygments_lexer": "ipython3",
   "version": "3.8.3"
  }
 },
 "nbformat": 4,
 "nbformat_minor": 5
}
