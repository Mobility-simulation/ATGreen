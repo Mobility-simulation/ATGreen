{
 "cells": [
  {
   "cell_type": "code",
   "execution_count": 8,
   "metadata": {},
   "outputs": [],
   "source": [
    "from atgreen import *\n",
    "from tqdm import tqdm"
   ]
  },
  {
   "cell_type": "code",
   "execution_count": null,
   "metadata": {},
   "outputs": [],
   "source": [
    "PATH=\"\""
   ]
  },
  {
   "cell_type": "code",
   "execution_count": 5,
   "metadata": {},
   "outputs": [],
   "source": [
    "os.chdir(PATH)\n",
    "db_params=pickle.load(open(f\"{PATH}/dicts/db_params.pickle\", 'rb'))\n",
    "cities_list=query4table('cities_boundary','public', db_params)['city']"
   ]
  },
  {
   "cell_type": "code",
   "execution_count": 31,
   "metadata": {},
   "outputs": [],
   "source": [
    "cities_n_rows_dict={}\n",
    "for city in tqdm(cities_list):\n",
    "    cities_n_rows_dict[city]=int(query4grid_unmasked(f'{city}', db_params)['y'].max())\n",
    "\n",
    "for ind, city in enumerate(cities_list):\n",
    "    print(ind)\n",
    "    print(city)\n",
    "    df=query4esa2grid(city, [10,20,30], db_params, 0, 0)\n",
    "    # Round values\n",
    "    for VAR in ['green_size', 'size_intersection']:\n",
    "        df[VAR]=np.round(df[VAR], 2)\n",
    "    #Rename variables\n",
    "    df.rename(columns={\"green_size\":f\"{0}_gs\", \"size_intersection\":f\"{0}_si\"}, inplace=True)\n",
    "    df['city']=city    \n",
    "    df['id']=df.apply(lambda x: x['y']+(cities_n_rows_dict[x['city']])*(x['x']-1), axis=1)\n",
    "    df=df.set_index(['id', 'x','y', 'city'])\n",
    "    df2psql(df, 'esa2grid', db_params, if_exists='append', index=True, index_label=['id', 'x','y', 'city'] ,schema='esa')"
   ]
  }
 ],
 "metadata": {
  "kernelspec": {
   "display_name": "Python 3",
   "language": "python",
   "name": "python3"
  },
  "language_info": {
   "codemirror_mode": {
    "name": "ipython",
    "version": 3
   },
   "file_extension": ".py",
   "mimetype": "text/x-python",
   "name": "python",
   "nbconvert_exporter": "python",
   "pygments_lexer": "ipython3",
   "version": "3.8.3"
  }
 },
 "nbformat": 4,
 "nbformat_minor": 4
}
