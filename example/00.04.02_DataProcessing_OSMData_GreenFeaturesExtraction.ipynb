{
 "cells": [
  {
   "cell_type": "code",
   "execution_count": 1,
   "metadata": {
    "tags": []
   },
   "outputs": [],
   "source": [
    "#Import libraries, load watermark and set directories\n",
    "from atgreen import *"
   ]
  },
  {
   "cell_type": "code",
   "execution_count": null,
   "metadata": {
    "tags": [
     "PARMETERS"
    ]
   },
   "outputs": [],
   "source": [
    "PATH=\"\""
   ]
  },
  {
   "cell_type": "code",
   "execution_count": 2,
   "metadata": {},
   "outputs": [],
   "source": [
    "#Load dictionaries\n",
    "#Features related\n",
    "featuresToextract_greenblue=pickle.load(open(f\"{PATH}/dicts/featuresToextract_greenblue.pickle\", 'rb'))\n",
    "featuresTodrop_greenblue=pickle.load(open(f\"{PATH}/dicts/featuresTodrop_greenblue.pickle\", 'rb'))\n",
    "featuresToextract_confounders=pickle.load(open(f\"{PATH}/dicts/featuresToextract_confounders.pickle\", 'rb'))\n",
    "featuresTodrop_confounders={}\n",
    "\n",
    "#Osm-remapping related\n",
    "osm_mask_values=pickle.load(open(f\"{PATH}/dicts/osm_mask_values.pickle\", 'rb'))\n",
    "osm_mask_keys=pickle.load(open(f\"{PATH}/dicts/osm_mask_keys.pickle\", 'rb'))\n",
    "osm_mask_elements=pickle.load(open(f\"{PATH}/dicts/osm_mask_elements.pickle\", 'rb'))\n",
    "osm_mask_categories=pickle.load(open(f\"{PATH}/dicts/osm_mask_categories.pickle\", 'rb'))\n",
    "osm_macroclasses=pickle.load(open(f\"{PATH}/dicts/osm_macroclasses.pickle\", 'rb'))"
   ]
  },
  {
   "cell_type": "code",
   "execution_count": 11,
   "metadata": {},
   "outputs": [],
   "source": [
    "os.chdir(PATH)\n",
    "db_params=pickle.load(open(f\"{PATH}/dicts/db_params.pickle\", 'rb'))\n",
    "cities_list=query4table('cities_boundary','public', db_params)['city']\n",
    "\n",
    "\n",
    "#Parameters\n",
    "featuresToextract=featuresToextract_greenblue\n",
    "featuresTodrop=featuresTodrop_greenblue\n",
    "table='osm'\n",
    "\n",
    "#Run through all cities\n",
    "for ind, city in enumerate(cities_list):\n",
    "    print(ind)\n",
    "    print(city)\n",
    "\n",
    "    filename=f\"{PATH}/osm/cities/{city}.osm.pbf\"\n",
    "\n",
    "    gdfs_list=[]\n",
    "    gdfs_list.append(waysExtraction(filename, featuresToextract, True, True))\n",
    "    gdfs_list.append(relationsExtraction(filename, featuresToextract, True, True))\n",
    "    gdf=pd.concat(gdfs_list)\n",
    "\n",
    "    if len(featuresTodrop.keys())!=0:\n",
    "        gdfs_list=[]\n",
    "        gdfs_list.append(waysExtraction(filename, featuresTodrop, False, True))\n",
    "        gdfs_list.append(relationsExtraction(filename, featuresTodrop, False, True))\n",
    "        gdf_to_drop=pd.concat(gdfs_list)\n",
    "\n",
    "    if len(gdf)!=0:\n",
    "        if len(featuresTodrop.keys())!=0 and len(gdf_to_drop)!=0:\n",
    "            gdf=gpd.overlay(gdf,gdf_to_drop, how='difference', keep_geom_type=True, make_valid=True)\n",
    "\n",
    "        #Apply masks for categories\n",
    "        gdf['category']=gdf['osm_value'].apply(lambda x: osm_mask_categories[osm_macroclasses[x]])\n",
    "        gdf['osm_value']=gdf['osm_value'].apply(lambda x: osm_mask_values[x])\n",
    "        gdf['osm_key']=gdf['osm_key'].apply(lambda x: osm_mask_keys[x])\n",
    "        gdf['osm_element']=gdf['osm_element'].apply(lambda x: osm_mask_elements[x])\n",
    "        gdf['city']=city\n",
    "\n",
    "        boundary=query4cityboundary(city, db_params, 20000)\n",
    "\n",
    "        gdf=gpd.overlay(gdf,boundary, how='intersection', keep_geom_type=True, make_valid=True)\n",
    "        gdf.to_file(f\"{path}/tmp/{city}.geojson\", driver=\"GeoJSON\")\n",
    "\n",
    "        #Save into database\n",
    "        geojson2db(f\"osm.{city}\",f\"{path}/tmp/\", city ,db_params, '')\n",
    "\n",
    "        #Drop local file to save storage    \n",
    "        os.remove(f\"{path}/tmp/{city}.geojson\")\n",
    "\n",
    "        #Create index\n",
    "        conn = psycopg2.connect(\n",
    "               dbname=db_params['db_name'], user=db_params['db_user'], password=db_params['db_password'], host=db_params['db_host'])\n",
    "        conn.autocommit=True\n",
    "        sql=f\"\"\"CREATE INDEX idx_osm_{city} ON osm.\"{city}\" USING gist (geom)\"\"\"\n",
    "        conn.cursor().execute(sql)\n",
    "        conn.close()\n"
   ]
  }
 ],
 "metadata": {
  "kernelspec": {
   "display_name": "Python 3",
   "language": "python",
   "name": "python3"
  },
  "language_info": {
   "codemirror_mode": {
    "name": "ipython",
    "version": 3
   },
   "file_extension": ".py",
   "mimetype": "text/x-python",
   "name": "python",
   "nbconvert_exporter": "python",
   "pygments_lexer": "ipython3",
   "version": "3.8.3"
  }
 },
 "nbformat": 4,
 "nbformat_minor": 5
}
