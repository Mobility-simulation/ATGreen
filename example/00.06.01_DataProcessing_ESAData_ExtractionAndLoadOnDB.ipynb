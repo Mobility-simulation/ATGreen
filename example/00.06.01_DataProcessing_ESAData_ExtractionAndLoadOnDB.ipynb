{
 "cells": [
  {
   "cell_type": "code",
   "execution_count": 2,
   "metadata": {},
   "outputs": [],
   "source": [
    "from atgreen import *"
   ]
  },
  {
   "cell_type": "code",
   "execution_count": null,
   "metadata": {
    "tags": [
     "PARAMETERS"
    ]
   },
   "outputs": [],
   "source": [
    "PATH=\"\"\n",
    "BUFFER_SIZE=3000"
   ]
  },
  {
   "cell_type": "code",
   "execution_count": null,
   "metadata": {},
   "outputs": [],
   "source": [
    "os.chdir(PATH)\n",
    "db_params=pickle.load(open(f\"{PATH}/dicts/db_params.pickle\", 'rb'))\n",
    "cities_list=query4table('cities_boundary','public', db_params)['city']"
   ]
  },
  {
   "cell_type": "markdown",
   "metadata": {},
   "source": [
    "### SAVE RASTERS"
   ]
  },
  {
   "cell_type": "code",
   "execution_count": null,
   "metadata": {},
   "outputs": [],
   "source": [
    "for city in cities_list:\n",
    "    print(city)\n",
    "    #Geometry for clip\n",
    "    geometry_to_clip=query4cityboundary(city, db_params, BUFFER_SIZE).geometry\n",
    "    wcesa2raster(geometry_to_clip, f\"{PATH}/esa\",True, city)"
   ]
  },
  {
   "cell_type": "markdown",
   "metadata": {},
   "source": [
    "### GENERATE SQL TABLE ON ALL CITIES AT ONCE"
   ]
  },
  {
   "cell_type": "code",
   "execution_count": null,
   "metadata": {},
   "outputs": [],
   "source": [
    "#Load multiple raster at once    \n",
    "multiplerast2sql(f\"{PATH}/esa\" ,f\"{PATH}/tmp\", \"esa\", 'tiff', '4326')\n",
    "sqlRasterTable2db('esa',f\"{PATH}/tmp\",db_params)\n",
    "\n",
    "#Move to right schema:\n",
    "conn = psycopg2.connect(\n",
    "        dbname=db_params['db_name'], user=db_params['db_user'], password=db_params['db_password'], host=db_params['db_host'])\n",
    "conn.autocommit=True\n",
    "conn.cursor().execute(f\"\"\"ALTER TABLE esa SET SCHEMA esa;\"\"\")\n",
    "conn.close()\n",
    "\n",
    "#Remove files\n",
    "for f in os.listdir(f\"{PATH}/esa/\"):\n",
    "    os.remove(f\"{PATH}/esa/{f}\")"
   ]
  }
 ],
 "metadata": {
  "kernelspec": {
   "display_name": "Python 3",
   "language": "python",
   "name": "python3"
  },
  "language_info": {
   "codemirror_mode": {
    "name": "ipython",
    "version": 3
   },
   "file_extension": ".py",
   "mimetype": "text/x-python",
   "name": "python",
   "nbconvert_exporter": "python",
   "pygments_lexer": "ipython3",
   "version": "3.8.3"
  }
 },
 "nbformat": 4,
 "nbformat_minor": 4
}
